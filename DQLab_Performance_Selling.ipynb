{
  "nbformat": 4,
  "nbformat_minor": 0,
  "metadata": {
    "colab": {
      "private_outputs": true,
      "provenance": []
    },
    "kernelspec": {
      "name": "python3",
      "display_name": "Python 3"
    },
    "language_info": {
      "name": "python"
    }
  },
  "cells": [
    {
      "cell_type": "code",
      "execution_count": null,
      "metadata": {
        "id": "yJFY5iuCjmTL"
      },
      "outputs": [],
      "source": [
        "import pandas as pd\n",
        "import matplotlib.pyplot as plt"
      ]
    },
    {
      "cell_type": "code",
      "source": [
        "retail_data1 = pd.read_csv('https://storage.googleapis.com/dqlab-dataset/10%25_original_randomstate%3D42/retail_data_from_1_until_3_reduce.csv')\n",
        "retail_data2 = pd.read_csv('https://storage.googleapis.com/dqlab-dataset/10%25_original_randomstate%3D42/retail_data_from_4_until_6_reduce.csv')\n",
        "retail_data3 = pd.read_csv('https://storage.googleapis.com/dqlab-dataset/10%25_original_randomstate%3D42/retail_data_from_7_until_9_reduce.csv')\n",
        "retail_data4 = pd.read_csv('https://storage.googleapis.com/dqlab-dataset/10%25_original_randomstate%3D42/retail_data_from_10_until_12_reduce.csv')\n",
        "retail_table = pd.concat([retail_data1,retail_data2,retail_data3,retail_data4])\n",
        "print(retail_table.head())"
      ],
      "metadata": {
        "id": "_mX20WNDjr1O"
      },
      "execution_count": null,
      "outputs": []
    },
    {
      "cell_type": "code",
      "source": [
        "print(retail_table.info())\n",
        "print(retail_table.shape)\n",
        "print(retail_table.describe())"
      ],
      "metadata": {
        "id": "jlS8q2Kcj1CP"
      },
      "execution_count": null,
      "outputs": []
    },
    {
      "cell_type": "code",
      "source": [
        "check = retail_table.loc[(retail_table['item_price'] < 0) | (retail_table['total_price'] < 0)]\n",
        "print(check)\n",
        "check = retail_table.loc[retail_table['order_id'] == 'undefined']\n",
        "print(check)\n",
        "retail_table = retail_table.loc[(retail_table['item_price'] > 0) & (retail_table['total_price'] > 0)]\n",
        "retail_table = retail_table.loc[retail_table['order_id'] != 'undefined']\n",
        "retail_table['order_id'] = retail_table['order_id'].astype('int64')\n",
        "retail_table['order_date'] = pd.to_datetime(retail_table['order_date'])\n",
        "print(retail_table.info())"
      ],
      "metadata": {
        "id": "aUMVFX3ej6Yb"
      },
      "execution_count": null,
      "outputs": []
    },
    {
      "cell_type": "code",
      "source": [
        "java = ['DKI Jakarta','Jawa Barat','Jawa Timur','Jawa Tengah','Yogyakarta']\n",
        "retail_table_java = retail_table.loc[retail_table['province'].isin(java)]\n",
        "group_by_province = retail_table_java.groupby(['order_date','province']).agg({\n",
        "   'order_id': 'nunique',\n",
        "   'customer_id': 'nunique',\n",
        "   'product_id': 'nunique',\n",
        "   'brand': 'nunique',\n",
        "   'total_price': sum\n",
        "})\n",
        "\n",
        "group_by_province.columns = ['order','customer','product','brand','GMV']\n",
        "unstack_province = group_by_province.unstack('province').fillna(0)\n",
        "print(unstack_province.head())"
      ],
      "metadata": {
        "id": "4llmCnYFj8f-"
      },
      "execution_count": null,
      "outputs": []
    },
    {
      "cell_type": "code",
      "source": [
        "idx = pd.IndexSlice\n",
        "by_order = unstack_province.loc[:,idx['order']]\n",
        "monthly_mean = by_order.resample('M').mean()\n",
        "\n",
        "monthly_mean.plot(\n",
        "   figsize = (8,5),\n",
        "   title = 'Average Daily order Size in Month View for all Province'\n",
        ")\n",
        "plt.ylabel('Average Order Size')\n",
        "plt.xlabel('Month')\n",
        "plt.show()"
      ],
      "metadata": {
        "id": "7nBw8vz9kBE0"
      },
      "execution_count": null,
      "outputs": []
    },
    {
      "cell_type": "code",
      "source": [
        "idx = pd.IndexSlice\n",
        "by_order = unstack_province.loc[:,idx['customer']]\n",
        "monthly_mean = by_order.resample('M').mean()\n",
        "\n",
        "monthly_mean.plot(\n",
        "   figsize = (8,5),\n",
        "   title = 'Average Daily Customers in Month View for all Province'\n",
        ")\n",
        "plt.ylabel('Average Customers')\n",
        "plt.xlabel('Month')\n",
        "plt.show()"
      ],
      "metadata": {
        "id": "1QGkd3aYkxe5"
      },
      "execution_count": null,
      "outputs": []
    },
    {
      "cell_type": "code",
      "source": [
        "idx = pd.IndexSlice\n",
        "by_order = unstack_province.loc[:,idx['product']]\n",
        "monthly_mean = by_order.resample('M').mean()\n",
        "\n",
        "monthly_mean.plot(\n",
        "   figsize = (8,5),\n",
        "   title = 'Average Daily Product in Month View for all Province'\n",
        ")\n",
        "plt.ylabel('Average Product Size')\n",
        "plt.xlabel('Month')\n",
        "plt.show()"
      ],
      "metadata": {
        "id": "wl_D0Z-TlQ0x"
      },
      "execution_count": null,
      "outputs": []
    },
    {
      "cell_type": "code",
      "source": [
        "idx = pd.IndexSlice\n",
        "by_order = unstack_province.loc[:,idx['brand']]\n",
        "monthly_mean = by_order.resample('M').mean()\n",
        "\n",
        "monthly_mean.plot(\n",
        "   figsize = (8,5),\n",
        "   title = 'Average Daily Brand in Month View for all Province'\n",
        ")\n",
        "plt.ylabel('Average Brand Size')\n",
        "plt.xlabel('Month')\n",
        "plt.show()"
      ],
      "metadata": {
        "id": "ONvwiwy4la2u"
      },
      "execution_count": null,
      "outputs": []
    },
    {
      "cell_type": "code",
      "source": [
        "idx = pd.IndexSlice\n",
        "by_order = unstack_province.loc[:,idx['GMV']]\n",
        "monthly_mean = by_order.resample('M').mean()\n",
        "\n",
        "monthly_mean.plot(\n",
        "   figsize = (8,5),\n",
        "   title = 'Average Daily GMV in Month View for all Province'\n",
        ")\n",
        "plt.ylabel('Average GMV Size')\n",
        "plt.xlabel('Month')\n",
        "plt.show()"
      ],
      "metadata": {
        "id": "Oixjjbzqlepg"
      },
      "execution_count": null,
      "outputs": []
    }
  ]
}